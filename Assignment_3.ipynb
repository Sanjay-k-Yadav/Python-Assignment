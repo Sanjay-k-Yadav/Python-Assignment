{
 "cells": [
  {
   "cell_type": "markdown",
   "metadata": {
    "id": "Bb0WtwQucMDs"
   },
   "source": [
    "#### Ques 1. Write a Python function to find the Max of three numbers."
   ]
  },
  {
   "cell_type": "code",
   "execution_count": 1,
   "metadata": {},
   "outputs": [
    {
     "data": {
      "text/plain": [
       "17"
      ]
     },
     "execution_count": 1,
     "metadata": {},
     "output_type": "execute_result"
    }
   ],
   "source": [
    "def maximum(a, b, c):\n",
    "  \n",
    "    if (a >= b) and (a >= c):\n",
    "         Max_of_three_numbers = a\n",
    "  \n",
    "    elif (b >= a) and (b >= c):\n",
    "         Max_of_three_numbers = b\n",
    "    else:\n",
    "         Max_of_three_numbers = c\n",
    "          \n",
    "    return  Max_of_three_numbers\n",
    "maximum(10, 17, 12)"
   ]
  },
  {
   "cell_type": "markdown",
   "metadata": {
    "id": "8z_PuRyLcSKe"
   },
   "source": [
    "#### Ques 2. Write a Python function to multiply all the numbers in a list"
   ]
  },
  {
   "cell_type": "code",
   "execution_count": 2,
   "metadata": {},
   "outputs": [
    {
     "name": "stdout",
     "output_type": "stream",
     "text": [
      "40320\n"
     ]
    }
   ],
   "source": [
    "l=[2,3,4,5,6,7,8]\n",
    "s=1\n",
    "for i in l:\n",
    "    s=s*i\n",
    "print(s)"
   ]
  },
  {
   "cell_type": "markdown",
   "metadata": {
    "id": "mo5_mXVJcbQv"
   },
   "source": [
    "#### Ques 3. Write a Python function that accepts a string and calculate the number of upper case letters and lower case letters"
   ]
  },
  {
   "cell_type": "code",
   "execution_count": 3,
   "metadata": {},
   "outputs": [
    {
     "name": "stdout",
     "output_type": "stream",
     "text": [
      "Enter string:FSGFFfuyttfs7yhui\n",
      "No. of Upper case characters :  5\n",
      "No. of Lower case Characters :  11\n"
     ]
    }
   ],
   "source": [
    "def string_test(str=input(\"Enter string:\")):\n",
    "    d={\"UPPER_CASE\":0, \"LOWER_CASE\":0}\n",
    "    for c in str:\n",
    "        if c.isupper():\n",
    "           d[\"UPPER_CASE\"]+=1\n",
    "        elif c.islower():\n",
    "           d[\"LOWER_CASE\"]+=1\n",
    "        else:\n",
    "           pass\n",
    "   \n",
    "    print (\"No. of Upper case characters : \", d[\"UPPER_CASE\"])\n",
    "    print (\"No. of Lower case Characters : \", d[\"LOWER_CASE\"])\n",
    " \n",
    "string_test()"
   ]
  },
  {
   "cell_type": "markdown",
   "metadata": {
    "id": "G2IZXoVncopK"
   },
   "source": [
    "#### Ques 4.  Write a Python function that checks whether a passed string is palindrome or not"
   ]
  },
  {
   "cell_type": "code",
   "execution_count": 4,
   "metadata": {},
   "outputs": [
    {
     "name": "stdout",
     "output_type": "stream",
     "text": [
      "Enter string:fhidufhiu\n",
      "The string isn't a palindrome\n"
     ]
    }
   ],
   "source": [
    "def pel(str=input(\"Enter string:\")):\n",
    "    if(str==str[::-1]):\n",
    "        print(\"The string is a palindrome\")\n",
    "        \n",
    "    else:\n",
    "        print(\"The string isn't a palindrome\")\n",
    "pel()"
   ]
  },
  {
   "cell_type": "markdown",
   "metadata": {
    "id": "xL66LQJedfGO"
   },
   "source": [
    "#### Ques 5. Write a Python program to print the even numbers from a given list."
   ]
  },
  {
   "cell_type": "code",
   "execution_count": 5,
   "metadata": {},
   "outputs": [
    {
     "name": "stdout",
     "output_type": "stream",
     "text": [
      "2\n",
      "6\n",
      "8\n",
      "68\n"
     ]
    }
   ],
   "source": [
    "l = [2,5,7,3,6,8,23,68,71]\n",
    "for i in l:\n",
    "    if i%2==0 :\n",
    "        print(i)"
   ]
  },
  {
   "cell_type": "markdown",
   "metadata": {
    "id": "xXTrcV36gzNy"
   },
   "source": []
  }
 ],
 "metadata": {
  "colab": {
   "name": "Assignment_3.ipynb",
   "provenance": []
  },
  "kernelspec": {
   "display_name": "Python 3",
   "language": "python",
   "name": "python3"
  },
  "language_info": {
   "codemirror_mode": {
    "name": "ipython",
    "version": 3
   },
   "file_extension": ".py",
   "mimetype": "text/x-python",
   "name": "python",
   "nbconvert_exporter": "python",
   "pygments_lexer": "ipython3",
   "version": "3.8.8"
  }
 },
 "nbformat": 4,
 "nbformat_minor": 1
}
