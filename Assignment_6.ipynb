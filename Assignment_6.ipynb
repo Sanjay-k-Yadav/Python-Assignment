{
 "cells": [
  {
   "cell_type": "markdown",
   "metadata": {
    "id": "Q_A60T1lzSRg"
   },
   "source": [
    "#### Ques 1. Create a vector with values ranging from 10 to 49 \n"
   ]
  },
  {
   "cell_type": "code",
   "execution_count": 11,
   "metadata": {},
   "outputs": [
    {
     "name": "stdout",
     "output_type": "stream",
     "text": [
      "[10 11 12 13 14 15 16 17 18 19 20 21 22 23 24 25 26 27 28 29 30 31 32 33\n",
      " 34 35 36 37 38 39 40 41 42 43 44 45 46 47 48 49]\n"
     ]
    }
   ],
   "source": [
    "import numpy as np\n",
    "a = np.arange(10,50)\n",
    "print(a)"
   ]
  },
  {
   "cell_type": "markdown",
   "metadata": {
    "id": "z-8hfELHzSV-"
   },
   "source": [
    "#### Ques 2.  Reverse a vector (first element becomes last)\n"
   ]
  },
  {
   "cell_type": "code",
   "execution_count": 12,
   "metadata": {},
   "outputs": [
    {
     "name": "stdout",
     "output_type": "stream",
     "text": [
      "[10  9  8  7  6  5  4  3  2  1  0]\n"
     ]
    }
   ],
   "source": [
    "import numpy as np\n",
    "a = np.arange(11)\n",
    "a = a[::-1]\n",
    "print(a)"
   ]
  },
  {
   "cell_type": "markdown",
   "metadata": {
    "id": "ndjau2Y4zSxv"
   },
   "source": [
    "####  Ques 3.Create a 3x3 identity matrix"
   ]
  },
  {
   "cell_type": "code",
   "execution_count": 1,
   "metadata": {},
   "outputs": [
    {
     "data": {
      "text/plain": [
       "array([[1., 0., 0.],\n",
       "       [0., 1., 0.],\n",
       "       [0., 0., 1.]])"
      ]
     },
     "execution_count": 1,
     "metadata": {},
     "output_type": "execute_result"
    }
   ],
   "source": [
    "import numpy as np\n",
    "np.eye(3)"
   ]
  },
  {
   "cell_type": "markdown",
   "metadata": {
    "id": "Qvzt4eyZzmDE"
   },
   "source": [
    "#### Ques 4. Create a 10x10 array with random values and find the minimum and maximum values"
   ]
  },
  {
   "cell_type": "code",
   "execution_count": 4,
   "metadata": {},
   "outputs": [
    {
     "data": {
      "text/plain": [
       "array([[35, 54, 58, 34, 39, 70, 29, 29,  3, 94],\n",
       "       [36, 64, 99, 42, 58, 36, 11, 32, 24, 27],\n",
       "       [92, 71, 23, 54, 60, 89, 64, 29, 17, 75],\n",
       "       [75,  3, 19, 44, 63, 44, 70, 34, 44, 72],\n",
       "       [45, 43,  3, 29, 48, 12,  3, 19, 93, 53],\n",
       "       [49, 54, 61, 64, 86, 50, 12, 80, 45, 34],\n",
       "       [72, 19, 83, 27, 23, 52, 36, 36, 78, 41],\n",
       "       [99, 17, 50, 43, 58,  3, 66, 43, 97, 75],\n",
       "       [75, 12, 11, 24, 14, 48, 75, 28, 34, 96],\n",
       "       [52, 90, 42, 55, 91, 48, 46, 14, 69, 39]])"
      ]
     },
     "execution_count": 4,
     "metadata": {},
     "output_type": "execute_result"
    }
   ],
   "source": [
    "import numpy as np\n",
    "r = np.random.randint(2,100,(10,10))\n",
    "r"
   ]
  },
  {
   "cell_type": "code",
   "execution_count": 8,
   "metadata": {},
   "outputs": [
    {
     "data": {
      "text/plain": [
       "3"
      ]
     },
     "execution_count": 8,
     "metadata": {},
     "output_type": "execute_result"
    }
   ],
   "source": [
    "r.min()\n"
   ]
  },
  {
   "cell_type": "code",
   "execution_count": 7,
   "metadata": {},
   "outputs": [
    {
     "data": {
      "text/plain": [
       "99"
      ]
     },
     "execution_count": 7,
     "metadata": {},
     "output_type": "execute_result"
    }
   ],
   "source": [
    "r.max()"
   ]
  },
  {
   "cell_type": "markdown",
   "metadata": {
    "id": "zfO9PIQ50GFa"
   },
   "source": [
    "#### Ques 5.What is the result of the following expression?\n",
    "#### 0 * np.nan\n",
    "#### np.nan == np.nan\n",
    "#### np.inf > np.nan\n",
    "#### np.nan - np.nan\n",
    "#### np.nan in set([np.nan])\n",
    "#### 0.3 == 3 * 0.1\n"
   ]
  },
  {
   "cell_type": "code",
   "execution_count": 13,
   "metadata": {},
   "outputs": [
    {
     "name": "stdout",
     "output_type": "stream",
     "text": [
      "nan\n",
      "False\n",
      "False\n",
      "nan\n",
      "True\n",
      "False\n"
     ]
    }
   ],
   "source": [
    "import numpy as np\n",
    "print(0 * np.nan)\n",
    "print(np.nan == np.nan)\n",
    "print(np.inf > np.nan)\n",
    "print(np.nan - np.nan)\n",
    "print(np.nan in set([np.nan]))\n",
    "print(0.3 == 3 * 0.1)"
   ]
  },
  {
   "cell_type": "markdown",
   "metadata": {
    "id": "r6PwGiWN0weZ"
   },
   "source": [
    "#### Ques 6.How to sum a small array faster than np.sum? "
   ]
  },
  {
   "cell_type": "code",
   "execution_count": 18,
   "metadata": {},
   "outputs": [
    {
     "data": {
      "text/plain": [
       "1180"
      ]
     },
     "execution_count": 18,
     "metadata": {},
     "output_type": "execute_result"
    }
   ],
   "source": [
    "import numpy as np\n",
    "a = np.arange(10,50)\n",
    "np.add.reduce(a)"
   ]
  },
  {
   "cell_type": "markdown",
   "metadata": {
    "id": "QrLawZlu1z6o"
   },
   "source": [
    "#### Ques 7.How to find the closest value (to a given scalar) in a vector?"
   ]
  },
  {
   "cell_type": "code",
   "execution_count": 21,
   "metadata": {},
   "outputs": [
    {
     "name": "stdout",
     "output_type": "stream",
     "text": [
      "Original array:\n",
      "[ 0  1  2  3  4  5  6  7  8  9 10 11 12 13 14 15 16 17 18 19 20 21 22 23\n",
      " 24 25 26 27 28 29 30 31 32 33 34 35 36 37 38 39 40 41 42 43 44 45 46 47\n",
      " 48 49 50 51 52 53 54 55 56 57 58 59 60 61 62 63 64 65 66 67 68 69 70 71\n",
      " 72 73 74 75 76 77 78 79 80 81 82 83 84 85 86 87 88 89 90 91 92 93 94 95\n",
      " 96 97 98 99]\n",
      "Value to compare:\n",
      "61.352670276848656\n",
      "61\n"
     ]
    }
   ],
   "source": [
    "import numpy as np\n",
    "x = np.arange(100)\n",
    "print(\"Original array:\")\n",
    "print(x)\n",
    "a = np.random.uniform(0,100)\n",
    "print(\"Value to compare:\")\n",
    "print(a)\n",
    "index = (np.abs(x-a)).argmin()\n",
    "print(x[index])"
   ]
  }
 ],
 "metadata": {
  "colab": {
   "name": "Assignment_6.ipynb",
   "provenance": []
  },
  "kernelspec": {
   "display_name": "Python 3",
   "language": "python",
   "name": "python3"
  },
  "language_info": {
   "codemirror_mode": {
    "name": "ipython",
    "version": 3
   },
   "file_extension": ".py",
   "mimetype": "text/x-python",
   "name": "python",
   "nbconvert_exporter": "python",
   "pygments_lexer": "ipython3",
   "version": "3.8.8"
  }
 },
 "nbformat": 4,
 "nbformat_minor": 1
}
