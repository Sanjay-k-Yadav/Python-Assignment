{
 "cells": [
  {
   "cell_type": "markdown",
   "metadata": {
    "id": "0DTtTmo_s0p3"
   },
   "source": [
    "#### Ques 1. Write a program which will find all such numbers which are divisible by 7 but are not a multiple of 5, between 2000 and 3200 (both included).The numbers obtained should be printed in a comma-separated sequence on a single line.\n",
    "#### Hint By Using generators and list comprehension\n"
   ]
  },
  {
   "cell_type": "code",
   "execution_count": 4,
   "metadata": {},
   "outputs": [
    {
     "name": "stdout",
     "output_type": "stream",
     "text": [
      "2002,2009,2016,2023,2037,2044,2051,2058,2072,2079,2086,2093,2107,2114,2121,2128,2142,2149,2156,2163,2177,2184,2191,2198,2212,2219,2226,2233,2247,2254,2261,2268,2282,2289,2296,2303,2317,2324,2331,2338,2352,2359,2366,2373,2387,2394,2401,2408,2422,2429,2436,2443,2457,2464,2471,2478,2492,2499,2506,2513,2527,2534,2541,2548,2562,2569,2576,2583,2597,2604,2611,2618,2632,2639,2646,2653,2667,2674,2681,2688,2702,2709,2716,2723,2737,2744,2751,2758,2772,2779,2786,2793,2807,2814,2821,2828,2842,2849,2856,2863,2877,2884,2891,2898,2912,2919,2926,2933,2947,2954,2961,2968,2982,2989,2996,3003,3017,3024,3031,3038,3052,3059,3066,3073,3087,3094,3101,3108,3122,3129,3136,3143,3157,3164,3171,3178,3192,3199,"
     ]
    }
   ],
   "source": [
    "for i in range(2000,3201):\n",
    "    if i %7==0 and i%5!=0:\n",
    "        print(i, end=\",\")\n",
    "    "
   ]
  },
  {
   "cell_type": "markdown",
   "metadata": {
    "id": "Tr-yAMJxwZYb"
   },
   "source": [
    "#### Ques 2. With a given integral number n, write a program to generate a dictionary that contains (i, i x i) such that is an integral number between 1 and n (both included). and then the program should print the dictionary.Suppose the following input is supplied to the program: 12 \n",
    "#### Hint by using dictionary comprehension\n",
    "#### then the output should be {1: 1, 2: 4, 3: 9, 4: 16, 5: 25, 6: 36, 7: 49, 8: 64, 9: 81, 10: 100, 11: 121, 12: 144}"
   ]
  },
  {
   "cell_type": "code",
   "execution_count": 17,
   "metadata": {},
   "outputs": [
    {
     "name": "stdout",
     "output_type": "stream",
     "text": [
      "12\n",
      "{1: 1, 2: 4, 3: 9, 4: 16, 5: 25, 6: 36, 7: 49, 8: 64, 9: 81, 10: 100, 11: 121, 12: 144}\n"
     ]
    }
   ],
   "source": [
    "n = int(input())\n",
    "dic = {i: i * i for i in range(1, n+1)}\n",
    "print(dic)"
   ]
  },
  {
   "cell_type": "markdown",
   "metadata": {
    "id": "EvlyxEPes6Kp"
   },
   "source": [
    "#### Ques 3. Define a class which has at least two methods:\n",
    "#### getString: to get a string from console input\n",
    "#### printString: to print the string in upper case.\n",
    "#### Also please include simple test function to test the class methods.\n",
    "#### Hints:_Use init method to construct some parameters_"
   ]
  },
  {
   "cell_type": "code",
   "execution_count": 42,
   "metadata": {},
   "outputs": [],
   "source": [
    "class String:\n",
    "    def __init__(self):\n",
    "        pass\n",
    "\n",
    "    def getString(self):\n",
    "        self.name = input()\n",
    "\n",
    "    def printString(self):\n",
    "        print(self.name.upper())\n",
    "\n",
    "\n",
    "s = String()"
   ]
  },
  {
   "cell_type": "code",
   "execution_count": 43,
   "metadata": {},
   "outputs": [
    {
     "name": "stdout",
     "output_type": "stream",
     "text": [
      "sdfsf\n",
      "SDFSF\n"
     ]
    }
   ],
   "source": [
    "s.getString()\n",
    "s.printString()"
   ]
  },
  {
   "cell_type": "markdown",
   "metadata": {
    "id": "6jKxeCCOxz8i"
   },
   "source": [
    "#### Ques 4. Define a class, which have a class parameter and have a same instance parameter.\n",
    "#### Hint : Define an instance parameter, need add it in init method.You can init an object with construct parameter or set the value later"
   ]
  },
  {
   "cell_type": "code",
   "execution_count": 1,
   "metadata": {},
   "outputs": [
    {
     "name": "stdout",
     "output_type": "stream",
     "text": [
      "Sanjay  nick name is Sanju\n",
      "Sanjay  last name is Kumar\n"
     ]
    }
   ],
   "source": [
    "class Person:\n",
    "    name = \"Sanjay\"\n",
    "   \n",
    "    def __init__(self, name = None):\n",
    "        \n",
    "        self.name = name\n",
    "sanjay = Person(\"Sanju\")\n",
    "print (\"%s  nick name is %s\" % (Person.name, sanjay.name))\n",
    "kumar = Person()\n",
    "kumar.name = \"Kumar\"\n",
    "\n",
    "print (\"%s  last name is %s\" % (Person.name, kumar.name))"
   ]
  },
  {
   "cell_type": "markdown",
   "metadata": {
    "id": "NwctSI0WzPvI"
   },
   "source": [
    "#### Ques 5. Write a Python class to convert an integer to a roman numeral."
   ]
  },
  {
   "cell_type": "code",
   "execution_count": 7,
   "metadata": {},
   "outputs": [
    {
     "name": "stdout",
     "output_type": "stream",
     "text": [
      "Enter a number: 5\n",
      "V"
     ]
    }
   ],
   "source": [
    "intToroman = { 1: 'I', 4: 'IV', 5: 'V', 9: 'IX', 10: 'X', 40: 'XL',\n",
    "              50: 'L', 90: 'XC', 100: 'C', 400: 'XD', 500: 'D', 900: 'CM', 1000: 'M'}\n",
    "integer = int(input(\"Enter a number: \"))\n",
    "\n",
    "print_order = [1000, 900, 500, 400, 100, 90, 50, 40, 10, 9, 5, 4, 1]\n",
    "\n",
    "for x in print_order:\n",
    "    if integer != 0:\n",
    "        quotient= integer//x\n",
    "\n",
    "        \n",
    "        if quotient != 0:\n",
    "            for y in range(quotient):\n",
    "                print(intToroman[x], end=\"\")\n",
    "\n",
    "        #update integer with remainder\n",
    "        integer = integer%x"
   ]
  },
  {
   "cell_type": "markdown",
   "metadata": {
    "id": "vTENsosY0Rs_"
   },
   "source": [
    "#### Ques 6. Write a Python class to convert a roman numeral to an integer.\n"
   ]
  },
  {
   "cell_type": "code",
   "execution_count": 3,
   "metadata": {},
   "outputs": [
    {
     "name": "stdout",
     "output_type": "stream",
     "text": [
      "5\n",
      "441\n"
     ]
    }
   ],
   "source": [
    "class Solution(object):\n",
    "    def romanToInt(self, s):\n",
    "        \"\"\"\n",
    "        :type s: str\n",
    "        :rtype: int\n",
    "        \"\"\"\n",
    "        roman = {'I':1,'V':5,'X':10,'L':50,'C':100,'D':500,'M':1000,'IV':4,'IX':9,'XL':40,'XC':90,'CD':400,'CM':900}\n",
    "        i = 0\n",
    "        num = 0\n",
    "        while i < len(s):\n",
    "            \n",
    "            if i+1<len(s) and s[i:i+2] in roman:\n",
    "                    num+=roman[s[i:i+2]]\n",
    "                    i+=2\n",
    "            else:\n",
    "                num+=roman[s[i]]\n",
    "                i+=1\n",
    "                return num\n",
    "ob1 = Solution()\n",
    "print(ob1.romanToInt(\"V\"))\n",
    "print(ob1.romanToInt(\"CDXLIII\"))"
   ]
  }
 ],
 "metadata": {
  "colab": {
   "name": "Assignment_5.ipynb",
   "provenance": []
  },
  "kernelspec": {
   "display_name": "Python 3",
   "language": "python",
   "name": "python3"
  },
  "language_info": {
   "codemirror_mode": {
    "name": "ipython",
    "version": 3
   },
   "file_extension": ".py",
   "mimetype": "text/x-python",
   "name": "python",
   "nbconvert_exporter": "python",
   "pygments_lexer": "ipython3",
   "version": "3.8.8"
  }
 },
 "nbformat": 4,
 "nbformat_minor": 1
}
