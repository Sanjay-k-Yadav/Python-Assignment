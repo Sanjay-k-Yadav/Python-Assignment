{
 "cells": [
  {
   "cell_type": "markdown",
   "metadata": {
    "id": "Nne9i7XJbluF"
   },
   "source": [
    "#### Ques 1.  Write a Python program to remove duplicates from a list."
   ]
  },
  {
   "cell_type": "code",
   "execution_count": 1,
   "metadata": {},
   "outputs": [
    {
     "data": {
      "text/plain": [
       "[65, 2, 4, 5, 43, 12, 78, 21, 23, 56]"
      ]
     },
     "execution_count": 1,
     "metadata": {},
     "output_type": "execute_result"
    }
   ],
   "source": [
    "l = [23,21,4,5,65,78,43,12,56,2,12,23,65,5,56]\n",
    "s = list(set(l))\n",
    "s"
   ]
  },
  {
   "cell_type": "markdown",
   "metadata": {
    "id": "4bTD0BYrbuzF"
   },
   "source": [
    "#### Ques 2. Write a Python program to combine two dictionary adding values for common keys\n",
    "#### d1 = {'a': 100, 'b': 200, 'c':300}\n",
    "#### d2 = {'a': 300, 'b': 200, 'd':400}\n",
    "#### Sample output: Counter({'a': 400, 'b': 400, 'd': 400, 'c': 300})"
   ]
  },
  {
   "cell_type": "code",
   "execution_count": 5,
   "metadata": {},
   "outputs": [
    {
     "name": "stdout",
     "output_type": "stream",
     "text": [
      "Counter({'a': 400, 'b': 400, 'd': 400, 'c': 300})\n"
     ]
    }
   ],
   "source": [
    "from collections import Counter\n",
    "d1 = {'a': 100, 'b': 200, 'c':300}\n",
    "d2 = {'a': 300, 'b': 200, 'd':400}\n",
    "\n",
    "d = Counter(d1) + Counter(d2)\n",
    "print(d)"
   ]
  },
  {
   "cell_type": "markdown",
   "metadata": {
    "id": "wozL1C9KcDSv"
   },
   "source": [
    "#### Ques 3.Write a Python program to convert a tuple to a string."
   ]
  },
  {
   "cell_type": "code",
   "execution_count": 6,
   "metadata": {},
   "outputs": [
    {
     "name": "stdout",
     "output_type": "stream",
     "text": [
      "skysanjayyadavzcpython\n"
     ]
    }
   ],
   "source": [
    "s = \"\"\n",
    "t=('s','k','y','sanjay','yadav','z','c','python')\n",
    "\n",
    "for i in t:\n",
    "    s = s + i\n",
    "    \n",
    "print(s)\n",
    "    \n",
    "\n"
   ]
  },
  {
   "cell_type": "markdown",
   "metadata": {
    "id": "F2V9JNVDcYAS"
   },
   "source": [
    "#### Ques 4.Write a Python program to remove item(s) from set"
   ]
  },
  {
   "cell_type": "code",
   "execution_count": null,
   "metadata": {},
   "outputs": [],
   "source": [
    "s = {\"apple\", \"banana\", \"cherry\",\"orange\",\"mango\",\"Coconut\",\"pear\"}\n",
    "\n",
    "s.remove(\"banana\")\n",
    "s"
   ]
  },
  {
   "cell_type": "markdown",
   "metadata": {
    "id": "MMJD3VbScqF4"
   },
   "source": [
    "#### Ques 5. Write a Python program to create a symmetric difference"
   ]
  },
  {
   "cell_type": "code",
   "execution_count": null,
   "metadata": {},
   "outputs": [],
   "source": [
    "s1 = {1, 1, 2, 3, 4, 5}\n",
    "s2 = {1, 5, 6, 7, 8, 9}\n",
    "print(s1)\n",
    "print(s2)\n",
    "sd1 = s1.symmetric_difference(s2)\n",
    "sd2 = s2.symmetric_difference(s1)\n",
    "print(\"Symmetric difference of s1 - s2: \")\n",
    "print(sd1)\n",
    "print(\"Symmetric difference of s2 - s1: \")\n",
    "print(sd2)"
   ]
  },
  {
   "cell_type": "markdown",
   "metadata": {
    "id": "cCD4b4C2czU2"
   },
   "source": [
    "#### Ques 6.Write a Python program to construct the following pattern, using a nested for loop.\n",
    "#### * \n",
    "#### * * \n",
    "#### * * * \n",
    "#### * * * * \n",
    "#### * * * * * \n",
    "#### * * * * \n",
    "#### * * * \n",
    "#### * * \n",
    "#### * "
   ]
  },
  {
   "cell_type": "code",
   "execution_count": 17,
   "metadata": {},
   "outputs": [
    {
     "name": "stdout",
     "output_type": "stream",
     "text": [
      "\n",
      "* \n",
      "* * \n",
      "* * * \n",
      "* * * * \n",
      "* * * * * \n",
      "* * * * \n",
      "* * * \n",
      "* * \n",
      "* \n"
     ]
    }
   ],
   "source": [
    "n = 5\n",
    "for i in range(n):\n",
    "    print('* ' * i)\n",
    "for j in range(n,0,-1):\n",
    "    print('* ' * j)"
   ]
  },
  {
   "cell_type": "markdown",
   "metadata": {
    "id": "NDPqctFGdTED"
   },
   "source": [
    "#### Ques 7. Write a Python program to get the Fibonacci series between 0 to 50."
   ]
  },
  {
   "cell_type": "code",
   "execution_count": 1,
   "metadata": {},
   "outputs": [
    {
     "name": "stdout",
     "output_type": "stream",
     "text": [
      "1\n",
      "1\n",
      "2\n",
      "3\n",
      "5\n",
      "8\n",
      "13\n",
      "21\n",
      "34\n"
     ]
    }
   ],
   "source": [
    "x,y=0,1\n",
    "\n",
    "while y<50:\n",
    "    print(y)\n",
    "    x,y = y,x+y"
   ]
  }
 ],
 "metadata": {
  "colab": {
   "name": "Assignment_2.ipynb",
   "provenance": []
  },
  "kernelspec": {
   "display_name": "Python 3",
   "language": "python",
   "name": "python3"
  },
  "language_info": {
   "codemirror_mode": {
    "name": "ipython",
    "version": 3
   },
   "file_extension": ".py",
   "mimetype": "text/x-python",
   "name": "python",
   "nbconvert_exporter": "python",
   "pygments_lexer": "ipython3",
   "version": "3.8.8"
  }
 },
 "nbformat": 4,
 "nbformat_minor": 1
}
